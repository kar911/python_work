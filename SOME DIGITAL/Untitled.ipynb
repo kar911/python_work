{
 "cells": [
  {
   "cell_type": "code",
   "execution_count": 1,
   "id": "520f0cf6-8c25-415d-8b18-98bd27c236cb",
   "metadata": {},
   "outputs": [],
   "source": [
    "import pandas as pd\n",
    "import numpy as np\n",
    "import seaborn as sn"
   ]
  },
  {
   "cell_type": "code",
   "execution_count": 40,
   "id": "2ae15306-4e65-4c4a-a3b7-544066203bd2",
   "metadata": {},
   "outputs": [],
   "source": [
    "df_e=pd.read_csv(\"employee_data.csv\")\n",
    "df_i=pd.read_csv(\"insurance_data.csv\")\n",
    "df_v=pd.read_csv(\"vendor_data.csv\")"
   ]
  },
  {
   "cell_type": "code",
   "execution_count": 3,
   "id": "e23f8c17-fdcc-4aa5-a277-704841749840",
   "metadata": {},
   "outputs": [
    {
     "data": {
      "text/plain": [
       "((1200, 10), (10000, 38), (600, 7))"
      ]
     },
     "execution_count": 3,
     "metadata": {},
     "output_type": "execute_result"
    }
   ],
   "source": [
    "df_e.shape , df_i.shape , df_v.shape"
   ]
  },
  {
   "cell_type": "code",
   "execution_count": 4,
   "id": "27836e88-a8cf-4597-9909-6b14ff2ea4e2",
   "metadata": {},
   "outputs": [
    {
     "name": "stdout",
     "output_type": "stream",
     "text": [
      "<class 'pandas.core.frame.DataFrame'>\n",
      "RangeIndex: 1200 entries, 0 to 1199\n",
      "Data columns (total 10 columns):\n",
      " #   Column              Non-Null Count  Dtype \n",
      "---  ------              --------------  ----- \n",
      " 0   AGENT_ID            1200 non-null   object\n",
      " 1   AGENT_NAME          1200 non-null   object\n",
      " 2   DATE_OF_JOINING     1200 non-null   object\n",
      " 3   ADDRESS_LINE1       1200 non-null   object\n",
      " 4   ADDRESS_LINE2       179 non-null    object\n",
      " 5   CITY                1193 non-null   object\n",
      " 6   STATE               1200 non-null   object\n",
      " 7   POSTAL_CODE         1200 non-null   int64 \n",
      " 8   EMP_ROUTING_NUMBER  1200 non-null   int64 \n",
      " 9   EMP_ACCT_NUMBER     1200 non-null   object\n",
      "dtypes: int64(2), object(8)\n",
      "memory usage: 93.9+ KB\n",
      "<class 'pandas.core.frame.DataFrame'>\n",
      "RangeIndex: 10000 entries, 0 to 9999\n",
      "Data columns (total 38 columns):\n",
      " #   Column                    Non-Null Count  Dtype  \n",
      "---  ------                    --------------  -----  \n",
      " 0   TXN_DATE_TIME             10000 non-null  object \n",
      " 1   TRANSACTION_ID            10000 non-null  object \n",
      " 2   CUSTOMER_ID               10000 non-null  object \n",
      " 3   POLICY_NUMBER             10000 non-null  object \n",
      " 4   POLICY_EFF_DT             10000 non-null  object \n",
      " 5   LOSS_DT                   10000 non-null  object \n",
      " 6   REPORT_DT                 10000 non-null  object \n",
      " 7   INSURANCE_TYPE            10000 non-null  object \n",
      " 8   PREMIUM_AMOUNT            10000 non-null  float64\n",
      " 9   CLAIM_AMOUNT              10000 non-null  int64  \n",
      " 10  CUSTOMER_NAME             10000 non-null  object \n",
      " 11  ADDRESS_LINE1             10000 non-null  object \n",
      " 12  ADDRESS_LINE2             1495 non-null   object \n",
      " 13  CITY                      9946 non-null   object \n",
      " 14  STATE                     10000 non-null  object \n",
      " 15  POSTAL_CODE               10000 non-null  int64  \n",
      " 16  SSN                       10000 non-null  object \n",
      " 17  MARITAL_STATUS            10000 non-null  object \n",
      " 18  AGE                       10000 non-null  int64  \n",
      " 19  TENURE                    10000 non-null  int64  \n",
      " 20  EMPLOYMENT_STATUS         10000 non-null  object \n",
      " 21  NO_OF_FAMILY_MEMBERS      10000 non-null  int64  \n",
      " 22  RISK_SEGMENTATION         10000 non-null  object \n",
      " 23  HOUSE_TYPE                10000 non-null  object \n",
      " 24  SOCIAL_CLASS              10000 non-null  object \n",
      " 25  ROUTING_NUMBER            10000 non-null  int64  \n",
      " 26  ACCT_NUMBER               10000 non-null  object \n",
      " 27  CUSTOMER_EDUCATION_LEVEL  9471 non-null   object \n",
      " 28  CLAIM_STATUS              10000 non-null  object \n",
      " 29  INCIDENT_SEVERITY         10000 non-null  object \n",
      " 30  AUTHORITY_CONTACTED       10000 non-null  object \n",
      " 31  ANY_INJURY                10000 non-null  int64  \n",
      " 32  POLICE_REPORT_AVAILABLE   10000 non-null  int64  \n",
      " 33  INCIDENT_STATE            10000 non-null  object \n",
      " 34  INCIDENT_CITY             9954 non-null   object \n",
      " 35  INCIDENT_HOUR_OF_THE_DAY  10000 non-null  int64  \n",
      " 36  AGENT_ID                  10000 non-null  object \n",
      " 37  VENDOR_ID                 6755 non-null   object \n",
      "dtypes: float64(1), int64(9), object(28)\n",
      "memory usage: 2.9+ MB\n",
      "<class 'pandas.core.frame.DataFrame'>\n",
      "RangeIndex: 600 entries, 0 to 599\n",
      "Data columns (total 7 columns):\n",
      " #   Column         Non-Null Count  Dtype \n",
      "---  ------         --------------  ----- \n",
      " 0   VENDOR_ID      600 non-null    object\n",
      " 1   VENDOR_NAME    600 non-null    object\n",
      " 2   ADDRESS_LINE1  600 non-null    object\n",
      " 3   ADDRESS_LINE2  97 non-null     object\n",
      " 4   CITY           594 non-null    object\n",
      " 5   STATE          600 non-null    object\n",
      " 6   POSTAL_CODE    600 non-null    int64 \n",
      "dtypes: int64(1), object(6)\n",
      "memory usage: 32.9+ KB\n"
     ]
    },
    {
     "data": {
      "text/plain": [
       "(None, None, None)"
      ]
     },
     "execution_count": 4,
     "metadata": {},
     "output_type": "execute_result"
    }
   ],
   "source": [
    "df_e.info() , df_i.info() , df_v.info()"
   ]
  },
  {
   "cell_type": "code",
   "execution_count": null,
   "id": "6b655397-e579-482f-91a0-41629ac07162",
   "metadata": {},
   "outputs": [
    {
     "data": {
      "text/plain": [
       "['ADDRESS_LINE1',\n",
       " 'ADDRESS_LINE2',\n",
       " 'AGENT_ID',\n",
       " 'AGENT_NAME',\n",
       " 'CITY',\n",
       " 'DATE_OF_JOINING',\n",
       " 'EMP_ACCT_NUMBER',\n",
       " 'EMP_ROUTING_NUMBER',\n",
       " 'POSTAL_CODE',\n",
       " 'STATE']"
      ]
     },
     "execution_count": 153,
     "metadata": {},
     "output_type": "execute_result"
    }
   ],
   "source": [
    "sorted(list(df_e.columns)), # AGENTS"
   ]
  },
  {
   "cell_type": "code",
   "execution_count": null,
   "id": "b27f5cd1-573c-431d-90dd-dca721fedb2e",
   "metadata": {},
   "outputs": [
    {
     "data": {
      "text/plain": [
       "['ACCT_NUMBER',\n",
       " 'ADDRESS_LINE1',\n",
       " 'ADDRESS_LINE2',\n",
       " 'AGE',\n",
       " 'AGENT_ID',\n",
       " 'ANY_INJURY',\n",
       " 'AUTHORITY_CONTACTED',\n",
       " 'CITY',\n",
       " 'CLAIM_AMOUNT',\n",
       " 'CLAIM_STATUS',\n",
       " 'CUSTOMER_EDUCATION_LEVEL',\n",
       " 'CUSTOMER_ID',\n",
       " 'CUSTOMER_NAME',\n",
       " 'EMPLOYMENT_STATUS',\n",
       " 'HOUSE_TYPE',\n",
       " 'INCIDENT_CITY',\n",
       " 'INCIDENT_HOUR_OF_THE_DAY',\n",
       " 'INCIDENT_SEVERITY',\n",
       " 'INCIDENT_STATE',\n",
       " 'INSURANCE_TYPE',\n",
       " 'LOSS_DT',\n",
       " 'MARITAL_STATUS',\n",
       " 'NO_OF_FAMILY_MEMBERS',\n",
       " 'POLICE_REPORT_AVAILABLE',\n",
       " 'POLICY_EFF_DT',\n",
       " 'POLICY_NUMBER',\n",
       " 'POSTAL_CODE',\n",
       " 'PREMIUM_AMOUNT',\n",
       " 'REPORT_DT',\n",
       " 'RISK_SEGMENTATION',\n",
       " 'ROUTING_NUMBER',\n",
       " 'SOCIAL_CLASS',\n",
       " 'SSN',\n",
       " 'STATE',\n",
       " 'TENURE',\n",
       " 'TRANSACTION_ID',\n",
       " 'TXN_DATE_TIME',\n",
       " 'VENDOR_ID']"
      ]
     },
     "execution_count": 154,
     "metadata": {},
     "output_type": "execute_result"
    }
   ],
   "source": [
    "sorted(list(df_i.columns))"
   ]
  },
  {
   "cell_type": "code",
   "execution_count": null,
   "id": "e627dc64-8908-45d1-9c06-7083102f1ace",
   "metadata": {},
   "outputs": [
    {
     "data": {
      "text/plain": [
       "['ADDRESS_LINE1',\n",
       " 'ADDRESS_LINE2',\n",
       " 'CITY',\n",
       " 'POSTAL_CODE',\n",
       " 'STATE',\n",
       " 'VENDOR_ID',\n",
       " 'VENDOR_NAME']"
      ]
     },
     "execution_count": 155,
     "metadata": {},
     "output_type": "execute_result"
    }
   ],
   "source": [
    "sorted(list(df_v.columns))"
   ]
  },
  {
   "cell_type": "code",
   "execution_count": 6,
   "id": "04d27662-dc62-47f6-9280-51fc64078b88",
   "metadata": {},
   "outputs": [
    {
     "data": {
      "text/plain": [
       "{'ADDRESS_LINE1', 'ADDRESS_LINE2', 'CITY', 'POSTAL_CODE', 'STATE'}"
      ]
     },
     "execution_count": 6,
     "metadata": {},
     "output_type": "execute_result"
    }
   ],
   "source": [
    "{ i for i in df_i.columns}.intersection({i for i in df_e.columns}).intersection({i for i in df_v.columns})"
   ]
  },
  {
   "cell_type": "code",
   "execution_count": 7,
   "id": "7164060e-20b6-4bf7-8cd1-128cca6ed31a",
   "metadata": {},
   "outputs": [],
   "source": [
    "# pd.concat([df_i.ADDRESS_LINE1,df_i.ADDRESS_LINE2],axis=1)\n",
    "x=pd.DataFrame(df_i.ADDRESS_LINE1+df_i.ADDRESS_LINE2)"
   ]
  },
  {
   "cell_type": "code",
   "execution_count": 8,
   "id": "4bfdc13d-6c9b-4bbc-9e18-8fb2f491054a",
   "metadata": {},
   "outputs": [
    {
     "data": {
      "text/html": [
       "<div>\n",
       "<style scoped>\n",
       "    .dataframe tbody tr th:only-of-type {\n",
       "        vertical-align: middle;\n",
       "    }\n",
       "\n",
       "    .dataframe tbody tr th {\n",
       "        vertical-align: top;\n",
       "    }\n",
       "\n",
       "    .dataframe thead th {\n",
       "        text-align: right;\n",
       "    }\n",
       "</style>\n",
       "<table border=\"1\" class=\"dataframe\">\n",
       "  <thead>\n",
       "    <tr style=\"text-align: right;\">\n",
       "      <th></th>\n",
       "      <th>0</th>\n",
       "    </tr>\n",
       "  </thead>\n",
       "  <tbody>\n",
       "    <tr>\n",
       "      <th>0</th>\n",
       "      <td>7701 West Saint John Road#2010</td>\n",
       "    </tr>\n",
       "    <tr>\n",
       "      <th>1</th>\n",
       "      <td>NaN</td>\n",
       "    </tr>\n",
       "    <tr>\n",
       "      <th>8</th>\n",
       "      <td>642 South 2nd Street#608</td>\n",
       "    </tr>\n",
       "    <tr>\n",
       "      <th>12</th>\n",
       "      <td>12870 Old Seward Highway#STE 000105</td>\n",
       "    </tr>\n",
       "    <tr>\n",
       "      <th>21</th>\n",
       "      <td>1358 Scenic AvenueR B</td>\n",
       "    </tr>\n",
       "    <tr>\n",
       "      <th>...</th>\n",
       "      <td>...</td>\n",
       "    </tr>\n",
       "    <tr>\n",
       "      <th>9398</th>\n",
       "      <td>525 Merrill Lane#308</td>\n",
       "    </tr>\n",
       "    <tr>\n",
       "      <th>9462</th>\n",
       "      <td>269 Park Street#1</td>\n",
       "    </tr>\n",
       "    <tr>\n",
       "      <th>9464</th>\n",
       "      <td>721 South Jackson Street#103</td>\n",
       "    </tr>\n",
       "    <tr>\n",
       "      <th>9666</th>\n",
       "      <td>322 East Taylor Street#1103</td>\n",
       "    </tr>\n",
       "    <tr>\n",
       "      <th>9732</th>\n",
       "      <td>80 South Main Street#1</td>\n",
       "    </tr>\n",
       "  </tbody>\n",
       "</table>\n",
       "<p>460 rows × 1 columns</p>\n",
       "</div>"
      ],
      "text/plain": [
       "                                        0\n",
       "0          7701 West Saint John Road#2010\n",
       "1                                     NaN\n",
       "8                642 South 2nd Street#608\n",
       "12    12870 Old Seward Highway#STE 000105\n",
       "21                  1358 Scenic AvenueR B\n",
       "...                                   ...\n",
       "9398                 525 Merrill Lane#308\n",
       "9462                    269 Park Street#1\n",
       "9464         721 South Jackson Street#103\n",
       "9666          322 East Taylor Street#1103\n",
       "9732               80 South Main Street#1\n",
       "\n",
       "[460 rows x 1 columns]"
      ]
     },
     "execution_count": 8,
     "metadata": {},
     "output_type": "execute_result"
    }
   ],
   "source": [
    "x.drop_duplicates()"
   ]
  },
  {
   "cell_type": "code",
   "execution_count": 9,
   "id": "9119b4cd-414e-40f9-99b7-c59da5dd375c",
   "metadata": {},
   "outputs": [
    {
     "data": {
      "text/plain": [
       "True     8505\n",
       "False    1495\n",
       "dtype: int64"
      ]
     },
     "execution_count": 9,
     "metadata": {},
     "output_type": "execute_result"
    }
   ],
   "source": [
    "x.isnull().value_counts()"
   ]
  },
  {
   "cell_type": "markdown",
   "id": "d1d27023-c942-4e4d-86bc-554607728e9c",
   "metadata": {},
   "source": [
    "## #1"
   ]
  },
  {
   "cell_type": "code",
   "execution_count": 10,
   "id": "d443c516-d35e-4c30-b0e0-1d5add34eb68",
   "metadata": {},
   "outputs": [],
   "source": [
    "ddf=df_i.merge(df_e.merge(df_v,how=\"left\",on='ADDRESS_LINE1'),how=\"left\",on='ADDRESS_LINE1')"
   ]
  },
  {
   "cell_type": "code",
   "execution_count": 11,
   "id": "9fe6ac20-68ea-4160-a57a-3c2391ec1a97",
   "metadata": {},
   "outputs": [
    {
     "data": {
      "text/plain": [
       "(10640, 53)"
      ]
     },
     "execution_count": 11,
     "metadata": {},
     "output_type": "execute_result"
    }
   ],
   "source": [
    "ddf.shape"
   ]
  },
  {
   "cell_type": "code",
   "execution_count": 12,
   "id": "2eb766b0-bf98-4798-b5f8-2b6aa9327405",
   "metadata": {},
   "outputs": [
    {
     "data": {
      "text/plain": [
       "array(['Health', 'Property', 'Travel', 'Life', 'Motor', 'Mobile'],\n",
       "      dtype=object)"
      ]
     },
     "execution_count": 12,
     "metadata": {},
     "output_type": "execute_result"
    }
   ],
   "source": [
    "df_i.INSURANCE_TYPE.unique()"
   ]
  },
  {
   "cell_type": "markdown",
   "id": "a438ec62-c6cc-497c-b120-bcf4e116e9e6",
   "metadata": {},
   "source": [
    "## #2"
   ]
  },
  {
   "cell_type": "code",
   "execution_count": 13,
   "id": "675a689a-f480-4bf8-a825-8ed9c24fdc71",
   "metadata": {},
   "outputs": [
    {
     "data": {
      "text/plain": [
       "array(['A', 'D'], dtype=object)"
      ]
     },
     "execution_count": 13,
     "metadata": {},
     "output_type": "execute_result"
    }
   ],
   "source": [
    "df_i.CLAIM_STATUS.unique()"
   ]
  },
  {
   "cell_type": "code",
   "execution_count": 14,
   "id": "5554746e-0aa8-4a86-8553-48a70256fe6c",
   "metadata": {},
   "outputs": [
    {
     "data": {
      "text/plain": [
       "INSURANCE_TYPE\n",
       "Life        91478000\n",
       "Property    41579000\n",
       "Health      18254000\n",
       "Name: CLAIM_AMOUNT, dtype: int64"
      ]
     },
     "execution_count": 14,
     "metadata": {},
     "output_type": "execute_result"
    }
   ],
   "source": [
    "df_i.groupby(by=df_i.INSURANCE_TYPE)[\"CLAIM_AMOUNT\"].sum().sort_values(ascending=False)[:3]"
   ]
  },
  {
   "cell_type": "markdown",
   "id": "1c920470-f6ec-4af1-b114-c16692c518b6",
   "metadata": {},
   "source": [
    "### due to no info on Claim Status it can be divided to A or D status"
   ]
  },
  {
   "cell_type": "markdown",
   "id": "8e078161-d95f-4940-ae58-4454070d135f",
   "metadata": {},
   "source": [
    "## #3"
   ]
  },
  {
   "cell_type": "code",
   "execution_count": 15,
   "id": "6cf7e51a-cc91-4d66-ae63-0f6627f012fb",
   "metadata": {},
   "outputs": [
    {
     "data": {
      "text/plain": [
       "array(['L', 'M', 'H'], dtype=object)"
      ]
     },
     "execution_count": 15,
     "metadata": {},
     "output_type": "execute_result"
    }
   ],
   "source": [
    "df_i.RISK_SEGMENTATION.unique()"
   ]
  },
  {
   "cell_type": "code",
   "execution_count": 16,
   "id": "2a193463-6181-4317-af0f-47c569e95e02",
   "metadata": {},
   "outputs": [
    {
     "data": {
      "text/plain": [
       "STATE\n",
       "AK    1251200\n",
       "AL    1855500\n",
       "AR    1794700\n",
       "AZ    1879500\n",
       "CA    3396500\n",
       "Name: CLAIM_AMOUNT, dtype: int64"
      ]
     },
     "execution_count": 16,
     "metadata": {},
     "output_type": "execute_result"
    }
   ],
   "source": [
    "df_i[ df_i.RISK_SEGMENTATION == \"H\"].groupby(by=df_i.STATE)[\"CLAIM_AMOUNT\"].sum().head(5)"
   ]
  },
  {
   "cell_type": "markdown",
   "id": "ea6110b3-2756-4050-8596-1bc2785cdd7c",
   "metadata": {},
   "source": [
    "## #4"
   ]
  },
  {
   "cell_type": "code",
   "execution_count": 17,
   "id": "01c43ced-0362-41c6-9404-64b3e7b99ea9",
   "metadata": {},
   "outputs": [],
   "source": [
    "def yes_no(v):\n",
    "    if v[0] == v[1] == v[2]:\n",
    "        return 1\n",
    "    else:\n",
    "        return 0"
   ]
  },
  {
   "cell_type": "code",
   "execution_count": 18,
   "id": "1b07864e-806b-4c64-b12f-adae41eea7f0",
   "metadata": {},
   "outputs": [],
   "source": [
    "ddf[\"COLOCATION\"]=ddf[[\"INCIDENT_STATE\",\"STATE\",\"STATE_x\"]].apply(yes_no,axis=1)"
   ]
  },
  {
   "cell_type": "code",
   "execution_count": 19,
   "id": "75c89140-e377-4c6e-a2e1-b6c2c2f99962",
   "metadata": {},
   "outputs": [
    {
     "data": {
      "text/plain": [
       "0    0.976504\n",
       "1    0.023496\n",
       "Name: COLOCATION, dtype: float64"
      ]
     },
     "execution_count": 19,
     "metadata": {},
     "output_type": "execute_result"
    }
   ],
   "source": [
    "ddf.COLOCATION.value_counts(normalize=True)"
   ]
  },
  {
   "cell_type": "code",
   "execution_count": 20,
   "id": "6d694b7d-25be-4cea-a9cc-dfebc9f31ae0",
   "metadata": {},
   "outputs": [
    {
     "data": {
      "text/plain": [
       "0.023496240601503758"
      ]
     },
     "execution_count": 20,
     "metadata": {},
     "output_type": "execute_result"
    }
   ],
   "source": [
    "ddf.COLOCATION.mean()"
   ]
  },
  {
   "cell_type": "code",
   "execution_count": 24,
   "id": "a6fa8506-3413-413a-9849-088f6b7b4e84",
   "metadata": {},
   "outputs": [
    {
     "data": {
      "text/plain": [
       "1    6928\n",
       "0    3072\n",
       "Name: POLICE_REPORT_AVAILABLE, dtype: int64"
      ]
     },
     "execution_count": 24,
     "metadata": {},
     "output_type": "execute_result"
    }
   ],
   "source": [
    "df_i.POLICE_REPORT_AVAILABLE.value_counts()"
   ]
  },
  {
   "cell_type": "markdown",
   "id": "c2fe56c2-3e3f-4f58-9eeb-3d5a9c82d4c0",
   "metadata": {},
   "source": [
    "## #5"
   ]
  },
  {
   "cell_type": "code",
   "execution_count": 22,
   "id": "b795f330-6db5-4d49-a698-0d2a8dc32c89",
   "metadata": {},
   "outputs": [],
   "source": [
    "ddf.AUTHORITY_CONTACTED=ddf[[\"AUTHORITY_CONTACTED\",\"POLICE_REPORT_AVAILABLE\"]].apply(lambda v : \"Police\" if v[1]==1 and v[0] != \"Police\" else v[0])"
   ]
  },
  {
   "cell_type": "markdown",
   "id": "a2930e61-6e17-4ca8-85e8-36a07e2d5e1c",
   "metadata": {},
   "source": [
    "## #6"
   ]
  },
  {
   "cell_type": "code",
   "execution_count": 42,
   "id": "92468c22-2adf-40fb-b929-067f23c0b5a6",
   "metadata": {},
   "outputs": [],
   "source": [
    "df_i.TXN_DATE_TIME=pd.to_datetime(df_i.TXN_DATE_TIME)"
   ]
  },
  {
   "cell_type": "code",
   "execution_count": 44,
   "id": "f5029c99-3b96-41e3-add2-ee9d4b1247d2",
   "metadata": {},
   "outputs": [],
   "source": [
    "last_30_devia=df_i.set_index(df_i.TXN_DATE_TIME).groupby(\"INSURANCE_TYPE\")[\"CLAIM_AMOUNT\"].rolling(\"30d\").mean().reset_index()"
   ]
  },
  {
   "cell_type": "code",
   "execution_count": 45,
   "id": "a8ba7634-8707-4e7d-a043-e5a244c971c4",
   "metadata": {},
   "outputs": [],
   "source": [
    "last_30_devia.rename(columns={\"CLAIM_AMOUNT\":\"avg_30_CLAIM_AMOUNT\"},inplace=True)"
   ]
  },
  {
   "cell_type": "code",
   "execution_count": 103,
   "id": "ebbde6ed-ffd2-4d2c-8f6d-b9ec929436df",
   "metadata": {},
   "outputs": [],
   "source": [
    "df_ii=df_i[[\"INSURANCE_TYPE\",\"TXN_DATE_TIME\",\"CLAIM_AMOUNT\",\"CUSTOMER_NAME\"]].merge(last_30_devia,how='left',on=[\"INSURANCE_TYPE\",\"TXN_DATE_TIME\"])"
   ]
  },
  {
   "cell_type": "code",
   "execution_count": 104,
   "id": "02bacf77-dc66-4771-a7b1-81e226e1ac76",
   "metadata": {},
   "outputs": [],
   "source": [
    "df_ii.drop_duplicates(subset=[\"INSURANCE_TYPE\",\"TXN_DATE_TIME\",\"CLAIM_AMOUNT\",\"CUSTOMER_NAME\"],keep='first',inplace=True)"
   ]
  },
  {
   "cell_type": "code",
   "execution_count": 105,
   "id": "d4abcc1c-4183-4ffb-9978-2a5f07ea1e7f",
   "metadata": {},
   "outputs": [],
   "source": [
    "x=pd.to_datetime('2020-06-01')"
   ]
  },
  {
   "cell_type": "code",
   "execution_count": 106,
   "id": "0c71a63b-4596-47a9-97d8-d5cefe05dc7c",
   "metadata": {},
   "outputs": [
    {
     "data": {
      "text/plain": [
       "Timestamp('2020-06-01 00:00:00')"
      ]
     },
     "execution_count": 106,
     "metadata": {},
     "output_type": "execute_result"
    }
   ],
   "source": [
    "x"
   ]
  },
  {
   "cell_type": "code",
   "execution_count": 107,
   "id": "685dfce1-63a4-46bc-9d1d-6927761e8576",
   "metadata": {},
   "outputs": [],
   "source": [
    "def claim_dev(v):\n",
    "    g=v[0]/v[3]\n",
    "    if ((v[2] - x)/np.timedelta64(1,'D')) < 30.00 :\n",
    "        return -1\n",
    "    elif g < 0.5:\n",
    "        return 1\n",
    "    else:\n",
    "        return 0"
   ]
  },
  {
   "cell_type": "code",
   "execution_count": 108,
   "id": "f5a1f5a5-fb1f-4513-883f-2318b93d00db",
   "metadata": {},
   "outputs": [],
   "source": [
    "df_ii[\"CLAIM_DEVI\"] = df_ii[[\"avg_30_CLAIM_AMOUNT\",\"INSURANCE_TYPE\",\"TXN_DATE_TIME\",\"CLAIM_AMOUNT\"]].apply(claim_dev,axis=1)"
   ]
  },
  {
   "cell_type": "code",
   "execution_count": 109,
   "id": "d9ccc519-28e9-4037-ae28-f69870236fa1",
   "metadata": {},
   "outputs": [
    {
     "data": {
      "text/html": [
       "<div>\n",
       "<style scoped>\n",
       "    .dataframe tbody tr th:only-of-type {\n",
       "        vertical-align: middle;\n",
       "    }\n",
       "\n",
       "    .dataframe tbody tr th {\n",
       "        vertical-align: top;\n",
       "    }\n",
       "\n",
       "    .dataframe thead th {\n",
       "        text-align: right;\n",
       "    }\n",
       "</style>\n",
       "<table border=\"1\" class=\"dataframe\">\n",
       "  <thead>\n",
       "    <tr style=\"text-align: right;\">\n",
       "      <th></th>\n",
       "      <th>INSURANCE_TYPE</th>\n",
       "      <th>TXN_DATE_TIME</th>\n",
       "      <th>CLAIM_AMOUNT</th>\n",
       "      <th>CUSTOMER_NAME</th>\n",
       "      <th>avg_30_CLAIM_AMOUNT</th>\n",
       "      <th>CLAIM_DEVI</th>\n",
       "    </tr>\n",
       "  </thead>\n",
       "  <tbody>\n",
       "    <tr>\n",
       "      <th>0</th>\n",
       "      <td>Health</td>\n",
       "      <td>2020-06-01</td>\n",
       "      <td>9000</td>\n",
       "      <td>Christopher Demarest</td>\n",
       "      <td>9000.000000</td>\n",
       "      <td>-1</td>\n",
       "    </tr>\n",
       "    <tr>\n",
       "      <th>8</th>\n",
       "      <td>Property</td>\n",
       "      <td>2020-06-01</td>\n",
       "      <td>26000</td>\n",
       "      <td>Ricardo Gatlin</td>\n",
       "      <td>26000.000000</td>\n",
       "      <td>-1</td>\n",
       "    </tr>\n",
       "    <tr>\n",
       "      <th>16</th>\n",
       "      <td>Property</td>\n",
       "      <td>2020-06-01</td>\n",
       "      <td>13000</td>\n",
       "      <td>Lashawn Engles</td>\n",
       "      <td>26000.000000</td>\n",
       "      <td>-1</td>\n",
       "    </tr>\n",
       "    <tr>\n",
       "      <th>24</th>\n",
       "      <td>Health</td>\n",
       "      <td>2020-06-01</td>\n",
       "      <td>16000</td>\n",
       "      <td>Steven Bassett</td>\n",
       "      <td>9000.000000</td>\n",
       "      <td>-1</td>\n",
       "    </tr>\n",
       "    <tr>\n",
       "      <th>32</th>\n",
       "      <td>Travel</td>\n",
       "      <td>2020-06-01</td>\n",
       "      <td>3000</td>\n",
       "      <td>Jason Rodriguez</td>\n",
       "      <td>3000.000000</td>\n",
       "      <td>-1</td>\n",
       "    </tr>\n",
       "    <tr>\n",
       "      <th>...</th>\n",
       "      <td>...</td>\n",
       "      <td>...</td>\n",
       "      <td>...</td>\n",
       "      <td>...</td>\n",
       "      <td>...</td>\n",
       "      <td>...</td>\n",
       "    </tr>\n",
       "    <tr>\n",
       "      <th>52339</th>\n",
       "      <td>Motor</td>\n",
       "      <td>2021-06-30</td>\n",
       "      <td>1000</td>\n",
       "      <td>Patrick Hauman</td>\n",
       "      <td>5558.333333</td>\n",
       "      <td>0</td>\n",
       "    </tr>\n",
       "    <tr>\n",
       "      <th>52344</th>\n",
       "      <td>Life</td>\n",
       "      <td>2021-06-30</td>\n",
       "      <td>67000</td>\n",
       "      <td>Paula Noel</td>\n",
       "      <td>52202.898551</td>\n",
       "      <td>0</td>\n",
       "    </tr>\n",
       "    <tr>\n",
       "      <th>52350</th>\n",
       "      <td>Health</td>\n",
       "      <td>2021-06-30</td>\n",
       "      <td>8000</td>\n",
       "      <td>Luis Clark</td>\n",
       "      <td>11007.575758</td>\n",
       "      <td>0</td>\n",
       "    </tr>\n",
       "    <tr>\n",
       "      <th>52352</th>\n",
       "      <td>Motor</td>\n",
       "      <td>2021-06-30</td>\n",
       "      <td>2000</td>\n",
       "      <td>Ryan Gordon</td>\n",
       "      <td>5558.333333</td>\n",
       "      <td>0</td>\n",
       "    </tr>\n",
       "    <tr>\n",
       "      <th>52357</th>\n",
       "      <td>Mobile</td>\n",
       "      <td>2021-06-30</td>\n",
       "      <td>300</td>\n",
       "      <td>Carol Clemons</td>\n",
       "      <td>377.692308</td>\n",
       "      <td>0</td>\n",
       "    </tr>\n",
       "  </tbody>\n",
       "</table>\n",
       "<p>10000 rows × 6 columns</p>\n",
       "</div>"
      ],
      "text/plain": [
       "      INSURANCE_TYPE TXN_DATE_TIME  CLAIM_AMOUNT         CUSTOMER_NAME  \\\n",
       "0             Health    2020-06-01          9000  Christopher Demarest   \n",
       "8           Property    2020-06-01         26000        Ricardo Gatlin   \n",
       "16          Property    2020-06-01         13000        Lashawn Engles   \n",
       "24            Health    2020-06-01         16000        Steven Bassett   \n",
       "32            Travel    2020-06-01          3000       Jason Rodriguez   \n",
       "...              ...           ...           ...                   ...   \n",
       "52339          Motor    2021-06-30          1000        Patrick Hauman   \n",
       "52344           Life    2021-06-30         67000            Paula Noel   \n",
       "52350         Health    2021-06-30          8000            Luis Clark   \n",
       "52352          Motor    2021-06-30          2000           Ryan Gordon   \n",
       "52357         Mobile    2021-06-30           300         Carol Clemons   \n",
       "\n",
       "       avg_30_CLAIM_AMOUNT  CLAIM_DEVI  \n",
       "0              9000.000000          -1  \n",
       "8             26000.000000          -1  \n",
       "16            26000.000000          -1  \n",
       "24             9000.000000          -1  \n",
       "32             3000.000000          -1  \n",
       "...                    ...         ...  \n",
       "52339          5558.333333           0  \n",
       "52344         52202.898551           0  \n",
       "52350         11007.575758           0  \n",
       "52352          5558.333333           0  \n",
       "52357           377.692308           0  \n",
       "\n",
       "[10000 rows x 6 columns]"
      ]
     },
     "execution_count": 109,
     "metadata": {},
     "output_type": "execute_result"
    }
   ],
   "source": [
    "df_ii"
   ]
  },
  {
   "cell_type": "markdown",
   "id": "2c495d2c-57af-4bf7-9e0b-6a95a4df8a22",
   "metadata": {},
   "source": [
    "## #7"
   ]
  },
  {
   "cell_type": "code",
   "execution_count": 187,
   "id": "7ea55045-7156-4c49-b72f-7671069b186d",
   "metadata": {},
   "outputs": [],
   "source": [
    "tdf=ddf[[\"CLAIM_AMOUNT\",\"INSURANCE_TYPE\",\"AGENT_NAME\",\"CLAIM_STATUS\"]]"
   ]
  },
  {
   "cell_type": "code",
   "execution_count": 219,
   "id": "98667b99-b717-4392-af63-3b8fb349f7b8",
   "metadata": {},
   "outputs": [],
   "source": [
    "vv=tdf[tdf[\"CLAIM_STATUS\"] == 'A'].groupby(by=[\"AGENT_NAME\"]).agg({\"INSURANCE_TYPE\":pd.Series.nunique ,\"CLAIM_AMOUNT\":\"sum\"})"
   ]
  },
  {
   "cell_type": "code",
   "execution_count": 224,
   "id": "c78a603b-2199-4e3c-af4a-92b51a99a4c9",
   "metadata": {},
   "outputs": [
    {
     "data": {
      "text/html": [
       "<div>\n",
       "<style scoped>\n",
       "    .dataframe tbody tr th:only-of-type {\n",
       "        vertical-align: middle;\n",
       "    }\n",
       "\n",
       "    .dataframe tbody tr th {\n",
       "        vertical-align: top;\n",
       "    }\n",
       "\n",
       "    .dataframe thead th {\n",
       "        text-align: right;\n",
       "    }\n",
       "</style>\n",
       "<table border=\"1\" class=\"dataframe\">\n",
       "  <thead>\n",
       "    <tr style=\"text-align: right;\">\n",
       "      <th></th>\n",
       "      <th>INSURANCE_TYPE</th>\n",
       "      <th>CLAIM_AMOUNT</th>\n",
       "    </tr>\n",
       "    <tr>\n",
       "      <th>AGENT_NAME</th>\n",
       "      <th></th>\n",
       "      <th></th>\n",
       "    </tr>\n",
       "  </thead>\n",
       "  <tbody>\n",
       "    <tr>\n",
       "      <th>Amy King</th>\n",
       "      <td>3</td>\n",
       "      <td>252000</td>\n",
       "    </tr>\n",
       "    <tr>\n",
       "      <th>James Harrison</th>\n",
       "      <td>4</td>\n",
       "      <td>232000</td>\n",
       "    </tr>\n",
       "    <tr>\n",
       "      <th>John Lolley</th>\n",
       "      <td>4</td>\n",
       "      <td>223700</td>\n",
       "    </tr>\n",
       "    <tr>\n",
       "      <th>Louise Turney</th>\n",
       "      <td>3</td>\n",
       "      <td>223100</td>\n",
       "    </tr>\n",
       "    <tr>\n",
       "      <th>Robin Mrozinski</th>\n",
       "      <td>5</td>\n",
       "      <td>218400</td>\n",
       "    </tr>\n",
       "    <tr>\n",
       "      <th>...</th>\n",
       "      <td>...</td>\n",
       "      <td>...</td>\n",
       "    </tr>\n",
       "    <tr>\n",
       "      <th>Ken Tantillo</th>\n",
       "      <td>4</td>\n",
       "      <td>6900</td>\n",
       "    </tr>\n",
       "    <tr>\n",
       "      <th>Candace Oleson</th>\n",
       "      <td>3</td>\n",
       "      <td>6700</td>\n",
       "    </tr>\n",
       "    <tr>\n",
       "      <th>Jeremy Fields</th>\n",
       "      <td>3</td>\n",
       "      <td>5700</td>\n",
       "    </tr>\n",
       "    <tr>\n",
       "      <th>Mildred Whitmore</th>\n",
       "      <td>3</td>\n",
       "      <td>5600</td>\n",
       "    </tr>\n",
       "    <tr>\n",
       "      <th>Jermaine Davis</th>\n",
       "      <td>3</td>\n",
       "      <td>5300</td>\n",
       "    </tr>\n",
       "  </tbody>\n",
       "</table>\n",
       "<p>496 rows × 2 columns</p>\n",
       "</div>"
      ],
      "text/plain": [
       "                  INSURANCE_TYPE  CLAIM_AMOUNT\n",
       "AGENT_NAME                                    \n",
       "Amy King                       3        252000\n",
       "James Harrison                 4        232000\n",
       "John Lolley                    4        223700\n",
       "Louise Turney                  3        223100\n",
       "Robin Mrozinski                5        218400\n",
       "...                          ...           ...\n",
       "Ken Tantillo                   4          6900\n",
       "Candace Oleson                 3          6700\n",
       "Jeremy Fields                  3          5700\n",
       "Mildred Whitmore               3          5600\n",
       "Jermaine Davis                 3          5300\n",
       "\n",
       "[496 rows x 2 columns]"
      ]
     },
     "execution_count": 224,
     "metadata": {},
     "output_type": "execute_result"
    }
   ],
   "source": [
    "vv[vv.INSURANCE_TYPE > 2].sort_values(by=\"CLAIM_AMOUNT\",ascending=False)"
   ]
  },
  {
   "cell_type": "code",
   "execution_count": 225,
   "id": "d31bdd45-dce9-43b7-83b7-ee0466fc3b15",
   "metadata": {},
   "outputs": [],
   "source": [
    "# vv.apply(lambda x: x[\"INSURANCE_TYPE\"] > 2 )[\"CLAIM_AMOUNT\"].sum()"
   ]
  },
  {
   "cell_type": "markdown",
   "id": "f909e95a-e4e0-4a1a-827e-80fa9d84d48c",
   "metadata": {},
   "source": [
    "## #8"
   ]
  },
  {
   "cell_type": "code",
   "execution_count": 256,
   "id": "4365b47a-3e29-4987-856d-822fccb2ec4d",
   "metadata": {},
   "outputs": [],
   "source": [
    "tdf1=ddf[[\"CUSTOMER_NAME\",\"PREMIUM_AMOUNT\",\"INSURANCE_TYPE\"]]"
   ]
  },
  {
   "cell_type": "code",
   "execution_count": 261,
   "id": "76e8ce05-a089-47a9-835a-6ed7e2f341bd",
   "metadata": {},
   "outputs": [],
   "source": [
    "def change(v):\n",
    "    if v[0] == \"Mobile\" or v[0] == \"Travel\":\n",
    "        return v[1]-((v[1]*10)/100)\n",
    "    elif v[0] == \"Health\" or v[0] == \"Property\":\n",
    "        return v[1]+((v[1]*7)/100)\n",
    "    elif v[0] == 'Life' or  v[0] == 'Motor':\n",
    "        return v[1]+((v[1]*2)/100)"
   ]
  },
  {
   "cell_type": "code",
   "execution_count": 290,
   "id": "a9f0960d-9d4f-40ec-803a-7f240f717e98",
   "metadata": {},
   "outputs": [
    {
     "name": "stderr",
     "output_type": "stream",
     "text": [
      "/tmp/ipykernel_3628/4231049865.py:1: SettingWithCopyWarning: \n",
      "A value is trying to be set on a copy of a slice from a DataFrame.\n",
      "Try using .loc[row_indexer,col_indexer] = value instead\n",
      "\n",
      "See the caveats in the documentation: https://pandas.pydata.org/pandas-docs/stable/user_guide/indexing.html#returning-a-view-versus-a-copy\n",
      "  tdf1.loc[:,\"PREMIUM_AMOUNT_CHANGED\"]=tdf1.loc[:,[\"INSURANCE_TYPE\",\"PREMIUM_AMOUNT\"]].apply(change,axis=1)\n"
     ]
    }
   ],
   "source": [
    "tdf1.loc[:,\"PREMIUM_AMOUNT_CHANGED\"]=tdf1.loc[:,[\"INSURANCE_TYPE\",\"PREMIUM_AMOUNT\"]].apply(change,axis=1)"
   ]
  },
  {
   "cell_type": "code",
   "execution_count": 291,
   "id": "4cc9053f-fc64-4fe4-9251-2dcf84d64b8c",
   "metadata": {},
   "outputs": [
    {
     "data": {
      "text/plain": [
       "((10640, 4), 9880)"
      ]
     },
     "execution_count": 291,
     "metadata": {},
     "output_type": "execute_result"
    }
   ],
   "source": [
    "tdf1.shape , tdf1.CUSTOMER_NAME.nunique()"
   ]
  },
  {
   "cell_type": "code",
   "execution_count": 266,
   "id": "72235683-6ca2-4b2f-a93d-f3d45b8701eb",
   "metadata": {},
   "outputs": [],
   "source": [
    "r1=tdf1.groupby(\"CUSTOMER_NAME\").agg({\"PREMIUM_AMOUNT_CHANGED\":\"sum\",\"PREMIUM_AMOUNT\":\"sum\"})"
   ]
  },
  {
   "cell_type": "code",
   "execution_count": 268,
   "id": "0b3fafb0-f325-402b-b458-3f34c8009da8",
   "metadata": {},
   "outputs": [],
   "source": [
    "r1[\"change_in_percent\"]=100*((r1.PREMIUM_AMOUNT_CHANGED -r1.PREMIUM_AMOUNT )/abs(r1.PREMIUM_AMOUNT))"
   ]
  },
  {
   "cell_type": "code",
   "execution_count": 269,
   "id": "ede44cdd-8fa6-4858-934f-00bb7f324f02",
   "metadata": {},
   "outputs": [
    {
     "data": {
      "text/html": [
       "<div>\n",
       "<style scoped>\n",
       "    .dataframe tbody tr th:only-of-type {\n",
       "        vertical-align: middle;\n",
       "    }\n",
       "\n",
       "    .dataframe tbody tr th {\n",
       "        vertical-align: top;\n",
       "    }\n",
       "\n",
       "    .dataframe thead th {\n",
       "        text-align: right;\n",
       "    }\n",
       "</style>\n",
       "<table border=\"1\" class=\"dataframe\">\n",
       "  <thead>\n",
       "    <tr style=\"text-align: right;\">\n",
       "      <th></th>\n",
       "      <th>PREMIUM_AMOUNT_CHANGED</th>\n",
       "      <th>PREMIUM_AMOUNT</th>\n",
       "      <th>change_in_percent</th>\n",
       "    </tr>\n",
       "    <tr>\n",
       "      <th>CUSTOMER_NAME</th>\n",
       "      <th></th>\n",
       "      <th></th>\n",
       "      <th></th>\n",
       "    </tr>\n",
       "  </thead>\n",
       "  <tbody>\n",
       "    <tr>\n",
       "      <th>Aaron Carter</th>\n",
       "      <td>159.4835</td>\n",
       "      <td>149.05</td>\n",
       "      <td>7.0</td>\n",
       "    </tr>\n",
       "    <tr>\n",
       "      <th>Aaron Guay</th>\n",
       "      <td>120.7495</td>\n",
       "      <td>112.85</td>\n",
       "      <td>7.0</td>\n",
       "    </tr>\n",
       "    <tr>\n",
       "      <th>Aaron Hearnen</th>\n",
       "      <td>72.7974</td>\n",
       "      <td>71.37</td>\n",
       "      <td>2.0</td>\n",
       "    </tr>\n",
       "    <tr>\n",
       "      <th>Aaron Hernandez</th>\n",
       "      <td>136.6176</td>\n",
       "      <td>127.68</td>\n",
       "      <td>7.0</td>\n",
       "    </tr>\n",
       "    <tr>\n",
       "      <th>Aaron Klingensmith</th>\n",
       "      <td>62.3160</td>\n",
       "      <td>69.24</td>\n",
       "      <td>-10.0</td>\n",
       "    </tr>\n",
       "    <tr>\n",
       "      <th>...</th>\n",
       "      <td>...</td>\n",
       "      <td>...</td>\n",
       "      <td>...</td>\n",
       "    </tr>\n",
       "    <tr>\n",
       "      <th>Zachery Edwards</th>\n",
       "      <td>62.2800</td>\n",
       "      <td>69.20</td>\n",
       "      <td>-10.0</td>\n",
       "    </tr>\n",
       "    <tr>\n",
       "      <th>Zane Garner</th>\n",
       "      <td>144.4500</td>\n",
       "      <td>135.00</td>\n",
       "      <td>7.0</td>\n",
       "    </tr>\n",
       "    <tr>\n",
       "      <th>Zenaida Norman</th>\n",
       "      <td>84.6294</td>\n",
       "      <td>82.97</td>\n",
       "      <td>2.0</td>\n",
       "    </tr>\n",
       "    <tr>\n",
       "      <th>Zita Sutton</th>\n",
       "      <td>115.1784</td>\n",
       "      <td>112.92</td>\n",
       "      <td>2.0</td>\n",
       "    </tr>\n",
       "    <tr>\n",
       "      <th>Zola Chowenhill</th>\n",
       "      <td>134.1031</td>\n",
       "      <td>125.33</td>\n",
       "      <td>7.0</td>\n",
       "    </tr>\n",
       "  </tbody>\n",
       "</table>\n",
       "<p>9880 rows × 3 columns</p>\n",
       "</div>"
      ],
      "text/plain": [
       "                    PREMIUM_AMOUNT_CHANGED  PREMIUM_AMOUNT  change_in_percent\n",
       "CUSTOMER_NAME                                                                \n",
       "Aaron Carter                      159.4835          149.05                7.0\n",
       "Aaron Guay                        120.7495          112.85                7.0\n",
       "Aaron Hearnen                      72.7974           71.37                2.0\n",
       "Aaron Hernandez                   136.6176          127.68                7.0\n",
       "Aaron Klingensmith                 62.3160           69.24              -10.0\n",
       "...                                    ...             ...                ...\n",
       "Zachery Edwards                    62.2800           69.20              -10.0\n",
       "Zane Garner                       144.4500          135.00                7.0\n",
       "Zenaida Norman                     84.6294           82.97                2.0\n",
       "Zita Sutton                       115.1784          112.92                2.0\n",
       "Zola Chowenhill                   134.1031          125.33                7.0\n",
       "\n",
       "[9880 rows x 3 columns]"
      ]
     },
     "execution_count": 269,
     "metadata": {},
     "output_type": "execute_result"
    }
   ],
   "source": [
    "r1"
   ]
  },
  {
   "cell_type": "markdown",
   "id": "d06cdc73-3b14-43ea-9852-c6eb1266e165",
   "metadata": {},
   "source": [
    "## #9"
   ]
  },
  {
   "cell_type": "code",
   "execution_count": 299,
   "id": "ae85d2f4-bc7f-42c0-a953-5ac9dc3ddc00",
   "metadata": {},
   "outputs": [],
   "source": [
    "ddf[\"ELIGIBLE_FOR_DISCOUNT\"]=np.where(((ddf.TENURE > 60) & (ddf.EMPLOYMENT_STATUS == 'N') & (ddf.NO_OF_FAMILY_MEMBERS >= 4)), 1 , 0)"
   ]
  },
  {
   "cell_type": "code",
   "execution_count": 302,
   "id": "95b71b4d-1f0e-4bc5-90ea-26346f62c1ce",
   "metadata": {},
   "outputs": [
    {
     "data": {
      "text/plain": [
       "0.029793233082706767"
      ]
     },
     "execution_count": 302,
     "metadata": {},
     "output_type": "execute_result"
    }
   ],
   "source": [
    "ddf.ELIGIBLE_FOR_DISCOUNT.mean()"
   ]
  },
  {
   "cell_type": "markdown",
   "id": "17d8e20f-1c25-44ba-9845-ed6829bbcc96",
   "metadata": {},
   "source": [
    "## #10"
   ]
  },
  {
   "cell_type": "code",
   "execution_count": 48,
   "id": "8e7a11d6-e938-4701-bded-a165e882471e",
   "metadata": {},
   "outputs": [],
   "source": [
    "last_30_veloc=df_i.set_index(df_i.TXN_DATE_TIME).groupby(\"INSURANCE_TYPE\")[\"CLAIM_AMOUNT\"].rolling(\"30d\").count().reset_index()"
   ]
  },
  {
   "cell_type": "code",
   "execution_count": 50,
   "id": "a98088e5-4cae-43ae-ad50-d8989c4c1d4a",
   "metadata": {},
   "outputs": [],
   "source": [
    "last_3_veloc=df_i.set_index(df_i.TXN_DATE_TIME).groupby(\"INSURANCE_TYPE\")[\"CLAIM_AMOUNT\"].rolling(\"3d\").count().reset_index()"
   ]
  },
  {
   "cell_type": "code",
   "execution_count": 81,
   "id": "4452c392-66fd-4f5d-9985-7f42a498ba6d",
   "metadata": {},
   "outputs": [],
   "source": [
    "last_30_veloc.rename(columns={\"CLAIM_AMOUNT\" : \"LAST_30_VELOC\" },inplace=True)\n",
    "last_3_veloc.rename(columns={\"CLAIM_AMOUNT\" : \"LAST_3_VELOC\" },inplace=True)"
   ]
  },
  {
   "cell_type": "code",
   "execution_count": 82,
   "id": "a58d919d-1d47-4ec1-b21a-ac734ada8ff8",
   "metadata": {},
   "outputs": [],
   "source": [
    "tdf11=df_i[[\"INSURANCE_TYPE\",\"TXN_DATE_TIME\",\"CLAIM_AMOUNT\",\"CUSTOMER_NAME\"]].merge(last_3_veloc,how=\"left\",left_on=[\"INSURANCE_TYPE\",\"TXN_DATE_TIME\"],right_on=[\"INSURANCE_TYPE\",\"TXN_DATE_TIME\"])"
   ]
  },
  {
   "cell_type": "code",
   "execution_count": 87,
   "id": "1187e91e-07f3-45cf-a681-bc28fd9f39bb",
   "metadata": {},
   "outputs": [],
   "source": [
    "tdf11.drop_duplicates(subset=[\"INSURANCE_TYPE\",\"TXN_DATE_TIME\",\"CLAIM_AMOUNT\",\"CUSTOMER_NAME\"],keep='first',inplace=True)"
   ]
  },
  {
   "cell_type": "code",
   "execution_count": 86,
   "id": "bab874ab-a125-45fa-8246-055277aec078",
   "metadata": {},
   "outputs": [],
   "source": [
    "tdf12=df_i[[\"INSURANCE_TYPE\",\"TXN_DATE_TIME\",\"CLAIM_AMOUNT\",\"CUSTOMER_NAME\"]].merge(last_30_veloc,how=\"left\",left_on=[\"INSURANCE_TYPE\",\"TXN_DATE_TIME\"],right_on=[\"INSURANCE_TYPE\",\"TXN_DATE_TIME\"])"
   ]
  },
  {
   "cell_type": "code",
   "execution_count": 88,
   "id": "cdf8755f-90ff-4436-9065-d2970fcf773a",
   "metadata": {},
   "outputs": [],
   "source": [
    "tdf12.drop_duplicates(subset=[\"INSURANCE_TYPE\",\"TXN_DATE_TIME\",\"CLAIM_AMOUNT\",\"CUSTOMER_NAME\"],keep='first',inplace=True)"
   ]
  },
  {
   "cell_type": "code",
   "execution_count": 99,
   "id": "f2cb8362-4163-4df2-85d5-e985c7de6886",
   "metadata": {},
   "outputs": [],
   "source": [
    "res=tdf11.merge(tdf12,how=\"inner\")"
   ]
  },
  {
   "cell_type": "code",
   "execution_count": 101,
   "id": "af3d7f8e-85e2-4f68-b456-38c6254a7fb7",
   "metadata": {},
   "outputs": [],
   "source": [
    "res[\"Claim_velocity\"]=res.LAST_30_VELOC/res.LAST_3_VELOC"
   ]
  },
  {
   "cell_type": "code",
   "execution_count": 102,
   "id": "cd47473b-a4d5-4351-adca-e32fca1e14d9",
   "metadata": {},
   "outputs": [
    {
     "data": {
      "text/html": [
       "<div>\n",
       "<style scoped>\n",
       "    .dataframe tbody tr th:only-of-type {\n",
       "        vertical-align: middle;\n",
       "    }\n",
       "\n",
       "    .dataframe tbody tr th {\n",
       "        vertical-align: top;\n",
       "    }\n",
       "\n",
       "    .dataframe thead th {\n",
       "        text-align: right;\n",
       "    }\n",
       "</style>\n",
       "<table border=\"1\" class=\"dataframe\">\n",
       "  <thead>\n",
       "    <tr style=\"text-align: right;\">\n",
       "      <th></th>\n",
       "      <th>INSURANCE_TYPE</th>\n",
       "      <th>TXN_DATE_TIME</th>\n",
       "      <th>CLAIM_AMOUNT</th>\n",
       "      <th>CUSTOMER_NAME</th>\n",
       "      <th>LAST_3_VELOC</th>\n",
       "      <th>LAST_30_VELOC</th>\n",
       "      <th>Claim_velocity</th>\n",
       "    </tr>\n",
       "  </thead>\n",
       "  <tbody>\n",
       "    <tr>\n",
       "      <th>0</th>\n",
       "      <td>Health</td>\n",
       "      <td>2020-06-01</td>\n",
       "      <td>9000</td>\n",
       "      <td>Christopher Demarest</td>\n",
       "      <td>1.0</td>\n",
       "      <td>1.0</td>\n",
       "      <td>1.000000</td>\n",
       "    </tr>\n",
       "    <tr>\n",
       "      <th>1</th>\n",
       "      <td>Property</td>\n",
       "      <td>2020-06-01</td>\n",
       "      <td>26000</td>\n",
       "      <td>Ricardo Gatlin</td>\n",
       "      <td>1.0</td>\n",
       "      <td>1.0</td>\n",
       "      <td>1.000000</td>\n",
       "    </tr>\n",
       "    <tr>\n",
       "      <th>2</th>\n",
       "      <td>Property</td>\n",
       "      <td>2020-06-01</td>\n",
       "      <td>13000</td>\n",
       "      <td>Lashawn Engles</td>\n",
       "      <td>1.0</td>\n",
       "      <td>1.0</td>\n",
       "      <td>1.000000</td>\n",
       "    </tr>\n",
       "    <tr>\n",
       "      <th>3</th>\n",
       "      <td>Health</td>\n",
       "      <td>2020-06-01</td>\n",
       "      <td>16000</td>\n",
       "      <td>Steven Bassett</td>\n",
       "      <td>1.0</td>\n",
       "      <td>1.0</td>\n",
       "      <td>1.000000</td>\n",
       "    </tr>\n",
       "    <tr>\n",
       "      <th>4</th>\n",
       "      <td>Travel</td>\n",
       "      <td>2020-06-01</td>\n",
       "      <td>3000</td>\n",
       "      <td>Jason Rodriguez</td>\n",
       "      <td>1.0</td>\n",
       "      <td>1.0</td>\n",
       "      <td>1.000000</td>\n",
       "    </tr>\n",
       "    <tr>\n",
       "      <th>...</th>\n",
       "      <td>...</td>\n",
       "      <td>...</td>\n",
       "      <td>...</td>\n",
       "      <td>...</td>\n",
       "      <td>...</td>\n",
       "      <td>...</td>\n",
       "      <td>...</td>\n",
       "    </tr>\n",
       "    <tr>\n",
       "      <th>9995</th>\n",
       "      <td>Motor</td>\n",
       "      <td>2021-06-30</td>\n",
       "      <td>1000</td>\n",
       "      <td>Patrick Hauman</td>\n",
       "      <td>11.0</td>\n",
       "      <td>120.0</td>\n",
       "      <td>10.909091</td>\n",
       "    </tr>\n",
       "    <tr>\n",
       "      <th>9996</th>\n",
       "      <td>Life</td>\n",
       "      <td>2021-06-30</td>\n",
       "      <td>67000</td>\n",
       "      <td>Paula Noel</td>\n",
       "      <td>10.0</td>\n",
       "      <td>138.0</td>\n",
       "      <td>13.800000</td>\n",
       "    </tr>\n",
       "    <tr>\n",
       "      <th>9997</th>\n",
       "      <td>Health</td>\n",
       "      <td>2021-06-30</td>\n",
       "      <td>8000</td>\n",
       "      <td>Luis Clark</td>\n",
       "      <td>10.0</td>\n",
       "      <td>132.0</td>\n",
       "      <td>13.200000</td>\n",
       "    </tr>\n",
       "    <tr>\n",
       "      <th>9998</th>\n",
       "      <td>Motor</td>\n",
       "      <td>2021-06-30</td>\n",
       "      <td>2000</td>\n",
       "      <td>Ryan Gordon</td>\n",
       "      <td>11.0</td>\n",
       "      <td>120.0</td>\n",
       "      <td>10.909091</td>\n",
       "    </tr>\n",
       "    <tr>\n",
       "      <th>9999</th>\n",
       "      <td>Mobile</td>\n",
       "      <td>2021-06-30</td>\n",
       "      <td>300</td>\n",
       "      <td>Carol Clemons</td>\n",
       "      <td>3.0</td>\n",
       "      <td>130.0</td>\n",
       "      <td>43.333333</td>\n",
       "    </tr>\n",
       "  </tbody>\n",
       "</table>\n",
       "<p>10000 rows × 7 columns</p>\n",
       "</div>"
      ],
      "text/plain": [
       "     INSURANCE_TYPE TXN_DATE_TIME  CLAIM_AMOUNT         CUSTOMER_NAME  \\\n",
       "0            Health    2020-06-01          9000  Christopher Demarest   \n",
       "1          Property    2020-06-01         26000        Ricardo Gatlin   \n",
       "2          Property    2020-06-01         13000        Lashawn Engles   \n",
       "3            Health    2020-06-01         16000        Steven Bassett   \n",
       "4            Travel    2020-06-01          3000       Jason Rodriguez   \n",
       "...             ...           ...           ...                   ...   \n",
       "9995          Motor    2021-06-30          1000        Patrick Hauman   \n",
       "9996           Life    2021-06-30         67000            Paula Noel   \n",
       "9997         Health    2021-06-30          8000            Luis Clark   \n",
       "9998          Motor    2021-06-30          2000           Ryan Gordon   \n",
       "9999         Mobile    2021-06-30           300         Carol Clemons   \n",
       "\n",
       "      LAST_3_VELOC  LAST_30_VELOC  Claim_velocity  \n",
       "0              1.0            1.0        1.000000  \n",
       "1              1.0            1.0        1.000000  \n",
       "2              1.0            1.0        1.000000  \n",
       "3              1.0            1.0        1.000000  \n",
       "4              1.0            1.0        1.000000  \n",
       "...            ...            ...             ...  \n",
       "9995          11.0          120.0       10.909091  \n",
       "9996          10.0          138.0       13.800000  \n",
       "9997          10.0          132.0       13.200000  \n",
       "9998          11.0          120.0       10.909091  \n",
       "9999           3.0          130.0       43.333333  \n",
       "\n",
       "[10000 rows x 7 columns]"
      ]
     },
     "execution_count": 102,
     "metadata": {},
     "output_type": "execute_result"
    }
   ],
   "source": [
    "res"
   ]
  },
  {
   "cell_type": "markdown",
   "id": "47934d41-752f-43b0-932c-2350a31efca4",
   "metadata": {},
   "source": [
    "## #11"
   ]
  },
  {
   "cell_type": "code",
   "execution_count": 280,
   "id": "a025b457-c137-4c42-a07c-40c69301ed1a",
   "metadata": {},
   "outputs": [
    {
     "data": {
      "text/plain": [
       "1146"
      ]
     },
     "execution_count": 280,
     "metadata": {},
     "output_type": "execute_result"
    }
   ],
   "source": [
    "ddf.AGENT_NAME.nunique()"
   ]
  },
  {
   "cell_type": "code",
   "execution_count": 282,
   "id": "c0705ebe-10e2-421c-bc66-ee06bb61a0cf",
   "metadata": {},
   "outputs": [
    {
     "data": {
      "text/html": [
       "<div>\n",
       "<style scoped>\n",
       "    .dataframe tbody tr th:only-of-type {\n",
       "        vertical-align: middle;\n",
       "    }\n",
       "\n",
       "    .dataframe tbody tr th {\n",
       "        vertical-align: top;\n",
       "    }\n",
       "\n",
       "    .dataframe thead th {\n",
       "        text-align: right;\n",
       "    }\n",
       "</style>\n",
       "<table border=\"1\" class=\"dataframe\">\n",
       "  <thead>\n",
       "    <tr style=\"text-align: right;\">\n",
       "      <th></th>\n",
       "      <th>CLAIM_AMOUNT</th>\n",
       "    </tr>\n",
       "    <tr>\n",
       "      <th>AGENT_NAME</th>\n",
       "      <th></th>\n",
       "    </tr>\n",
       "  </thead>\n",
       "  <tbody>\n",
       "    <tr>\n",
       "      <th>Adam Dixon</th>\n",
       "      <td>1</td>\n",
       "    </tr>\n",
       "    <tr>\n",
       "      <th>Denise Newsome</th>\n",
       "      <td>1</td>\n",
       "    </tr>\n",
       "    <tr>\n",
       "      <th>Ray Dunlap</th>\n",
       "      <td>1</td>\n",
       "    </tr>\n",
       "    <tr>\n",
       "      <th>Dianne Peters</th>\n",
       "      <td>1</td>\n",
       "    </tr>\n",
       "    <tr>\n",
       "      <th>Dianne Purcell</th>\n",
       "      <td>1</td>\n",
       "    </tr>\n",
       "    <tr>\n",
       "      <th>Don Ritchie</th>\n",
       "      <td>1</td>\n",
       "    </tr>\n",
       "    <tr>\n",
       "      <th>Rafael Scott</th>\n",
       "      <td>1</td>\n",
       "    </tr>\n",
       "    <tr>\n",
       "      <th>Donna Boucher</th>\n",
       "      <td>1</td>\n",
       "    </tr>\n",
       "    <tr>\n",
       "      <th>Donnell Phillips</th>\n",
       "      <td>1</td>\n",
       "    </tr>\n",
       "    <tr>\n",
       "      <th>Dorothy Rodriguez</th>\n",
       "      <td>1</td>\n",
       "    </tr>\n",
       "    <tr>\n",
       "      <th>Dortha Davis</th>\n",
       "      <td>1</td>\n",
       "    </tr>\n",
       "    <tr>\n",
       "      <th>Earnest White</th>\n",
       "      <td>1</td>\n",
       "    </tr>\n",
       "    <tr>\n",
       "      <th>Edgar Talley</th>\n",
       "      <td>1</td>\n",
       "    </tr>\n",
       "    <tr>\n",
       "      <th>Edwin Raines</th>\n",
       "      <td>1</td>\n",
       "    </tr>\n",
       "    <tr>\n",
       "      <th>Rhonda Mason</th>\n",
       "      <td>1</td>\n",
       "    </tr>\n",
       "    <tr>\n",
       "      <th>Patricia Short</th>\n",
       "      <td>1</td>\n",
       "    </tr>\n",
       "    <tr>\n",
       "      <th>Elena Perez</th>\n",
       "      <td>1</td>\n",
       "    </tr>\n",
       "    <tr>\n",
       "      <th>Elias Bergan</th>\n",
       "      <td>1</td>\n",
       "    </tr>\n",
       "    <tr>\n",
       "      <th>Elizabeth Curry</th>\n",
       "      <td>1</td>\n",
       "    </tr>\n",
       "    <tr>\n",
       "      <th>Pamela Moncivais</th>\n",
       "      <td>1</td>\n",
       "    </tr>\n",
       "    <tr>\n",
       "      <th>Pam Ault</th>\n",
       "      <td>1</td>\n",
       "    </tr>\n",
       "    <tr>\n",
       "      <th>Olivia Bancroft</th>\n",
       "      <td>1</td>\n",
       "    </tr>\n",
       "    <tr>\n",
       "      <th>Nidia Snider</th>\n",
       "      <td>1</td>\n",
       "    </tr>\n",
       "    <tr>\n",
       "      <th>Natalie Gunther</th>\n",
       "      <td>1</td>\n",
       "    </tr>\n",
       "    <tr>\n",
       "      <th>Eugene Brox</th>\n",
       "      <td>1</td>\n",
       "    </tr>\n",
       "    <tr>\n",
       "      <th>Myrtle Mccatty</th>\n",
       "      <td>1</td>\n",
       "    </tr>\n",
       "    <tr>\n",
       "      <th>Fran Maney</th>\n",
       "      <td>1</td>\n",
       "    </tr>\n",
       "    <tr>\n",
       "      <th>Frances Moye</th>\n",
       "      <td>1</td>\n",
       "    </tr>\n",
       "    <tr>\n",
       "      <th>Frances Smith</th>\n",
       "      <td>1</td>\n",
       "    </tr>\n",
       "    <tr>\n",
       "      <th>Patricia Gloeckner</th>\n",
       "      <td>1</td>\n",
       "    </tr>\n",
       "    <tr>\n",
       "      <th>Mike Cress</th>\n",
       "      <td>1</td>\n",
       "    </tr>\n",
       "    <tr>\n",
       "      <th>Delores Scott</th>\n",
       "      <td>1</td>\n",
       "    </tr>\n",
       "    <tr>\n",
       "      <th>Richard Kessler</th>\n",
       "      <td>1</td>\n",
       "    </tr>\n",
       "    <tr>\n",
       "      <th>Carl Balado</th>\n",
       "      <td>1</td>\n",
       "    </tr>\n",
       "    <tr>\n",
       "      <th>Carol Battles</th>\n",
       "      <td>1</td>\n",
       "    </tr>\n",
       "    <tr>\n",
       "      <th>Carolyn Jones</th>\n",
       "      <td>1</td>\n",
       "    </tr>\n",
       "    <tr>\n",
       "      <th>Saul Conyers</th>\n",
       "      <td>1</td>\n",
       "    </tr>\n",
       "    <tr>\n",
       "      <th>Sara Ruiz</th>\n",
       "      <td>1</td>\n",
       "    </tr>\n",
       "    <tr>\n",
       "      <th>Sandy Loucks</th>\n",
       "      <td>1</td>\n",
       "    </tr>\n",
       "    <tr>\n",
       "      <th>Sandra Hayashi</th>\n",
       "      <td>1</td>\n",
       "    </tr>\n",
       "    <tr>\n",
       "      <th>Sandra Chau</th>\n",
       "      <td>1</td>\n",
       "    </tr>\n",
       "    <tr>\n",
       "      <th>Charles Vanetten</th>\n",
       "      <td>1</td>\n",
       "    </tr>\n",
       "    <tr>\n",
       "      <th>Sally Hayden</th>\n",
       "      <td>1</td>\n",
       "    </tr>\n",
       "    <tr>\n",
       "      <th>Christina Bock</th>\n",
       "      <td>1</td>\n",
       "    </tr>\n",
       "    <tr>\n",
       "      <th>Christine Carter</th>\n",
       "      <td>1</td>\n",
       "    </tr>\n",
       "    <tr>\n",
       "      <th>Roscoe Wooden</th>\n",
       "      <td>1</td>\n",
       "    </tr>\n",
       "    <tr>\n",
       "      <th>Dawn Adams</th>\n",
       "      <td>1</td>\n",
       "    </tr>\n",
       "    <tr>\n",
       "      <th>Christopher Harris</th>\n",
       "      <td>1</td>\n",
       "    </tr>\n",
       "    <tr>\n",
       "      <th>Cindy Darden</th>\n",
       "      <td>1</td>\n",
       "    </tr>\n",
       "    <tr>\n",
       "      <th>Cindy Wilcox</th>\n",
       "      <td>1</td>\n",
       "    </tr>\n",
       "    <tr>\n",
       "      <th>Roger Burns</th>\n",
       "      <td>1</td>\n",
       "    </tr>\n",
       "    <tr>\n",
       "      <th>Clay Harmon</th>\n",
       "      <td>1</td>\n",
       "    </tr>\n",
       "    <tr>\n",
       "      <th>Robert Sampsell</th>\n",
       "      <td>1</td>\n",
       "    </tr>\n",
       "    <tr>\n",
       "      <th>Cynthia Lowe</th>\n",
       "      <td>1</td>\n",
       "    </tr>\n",
       "    <tr>\n",
       "      <th>Daniel Benevides</th>\n",
       "      <td>1</td>\n",
       "    </tr>\n",
       "    <tr>\n",
       "      <th>Daniel Nance</th>\n",
       "      <td>1</td>\n",
       "    </tr>\n",
       "    <tr>\n",
       "      <th>Robert Blair</th>\n",
       "      <td>1</td>\n",
       "    </tr>\n",
       "  </tbody>\n",
       "</table>\n",
       "</div>"
      ],
      "text/plain": [
       "                    CLAIM_AMOUNT\n",
       "AGENT_NAME                      \n",
       "Adam Dixon                     1\n",
       "Denise Newsome                 1\n",
       "Ray Dunlap                     1\n",
       "Dianne Peters                  1\n",
       "Dianne Purcell                 1\n",
       "Don Ritchie                    1\n",
       "Rafael Scott                   1\n",
       "Donna Boucher                  1\n",
       "Donnell Phillips               1\n",
       "Dorothy Rodriguez              1\n",
       "Dortha Davis                   1\n",
       "Earnest White                  1\n",
       "Edgar Talley                   1\n",
       "Edwin Raines                   1\n",
       "Rhonda Mason                   1\n",
       "Patricia Short                 1\n",
       "Elena Perez                    1\n",
       "Elias Bergan                   1\n",
       "Elizabeth Curry                1\n",
       "Pamela Moncivais               1\n",
       "Pam Ault                       1\n",
       "Olivia Bancroft                1\n",
       "Nidia Snider                   1\n",
       "Natalie Gunther                1\n",
       "Eugene Brox                    1\n",
       "Myrtle Mccatty                 1\n",
       "Fran Maney                     1\n",
       "Frances Moye                   1\n",
       "Frances Smith                  1\n",
       "Patricia Gloeckner             1\n",
       "Mike Cress                     1\n",
       "Delores Scott                  1\n",
       "Richard Kessler                1\n",
       "Carl Balado                    1\n",
       "Carol Battles                  1\n",
       "Carolyn Jones                  1\n",
       "Saul Conyers                   1\n",
       "Sara Ruiz                      1\n",
       "Sandy Loucks                   1\n",
       "Sandra Hayashi                 1\n",
       "Sandra Chau                    1\n",
       "Charles Vanetten               1\n",
       "Sally Hayden                   1\n",
       "Christina Bock                 1\n",
       "Christine Carter               1\n",
       "Roscoe Wooden                  1\n",
       "Dawn Adams                     1\n",
       "Christopher Harris             1\n",
       "Cindy Darden                   1\n",
       "Cindy Wilcox                   1\n",
       "Roger Burns                    1\n",
       "Clay Harmon                    1\n",
       "Robert Sampsell                1\n",
       "Cynthia Lowe                   1\n",
       "Daniel Benevides               1\n",
       "Daniel Nance                   1\n",
       "Robert Blair                   1"
      ]
     },
     "execution_count": 282,
     "metadata": {},
     "output_type": "execute_result"
    }
   ],
   "source": [
    "ddf.groupby(\"AGENT_NAME\").agg({\"CLAIM_AMOUNT\":\"count\"}).sort_values(by=\"CLAIM_AMOUNT\").head((1146*5)//100)"
   ]
  },
  {
   "cell_type": "markdown",
   "id": "c67c67cd-3d9c-45a7-940e-65cbd0ed0edb",
   "metadata": {},
   "source": [
    "## #12"
   ]
  },
  {
   "cell_type": "code",
   "execution_count": 283,
   "id": "2c808843-2fa8-461a-9643-f852ad37647c",
   "metadata": {},
   "outputs": [],
   "source": [
    "vvv=ddf.groupby(\"AGENT_NAME\").agg({\"CLAIM_AMOUNT\":\"sum\"})"
   ]
  },
  {
   "cell_type": "code",
   "execution_count": 287,
   "id": "d72f9742-3041-4645-9cb0-0f4979564049",
   "metadata": {},
   "outputs": [
    {
     "data": {
      "text/plain": [
       "0.7495636998254799"
      ]
     },
     "execution_count": 287,
     "metadata": {},
     "output_type": "execute_result"
    }
   ],
   "source": [
    "np.where((vvv.CLAIM_AMOUNT >= 15000),1,0).mean()"
   ]
  },
  {
   "cell_type": "code",
   "execution_count": null,
   "id": "36a541f4-8332-4d2e-94e9-6567581220f9",
   "metadata": {},
   "outputs": [],
   "source": []
  }
 ],
 "metadata": {
  "kernelspec": {
   "display_name": "Python 3 (ipykernel)",
   "language": "python",
   "name": "python3"
  },
  "language_info": {
   "codemirror_mode": {
    "name": "ipython",
    "version": 3
   },
   "file_extension": ".py",
   "mimetype": "text/x-python",
   "name": "python",
   "nbconvert_exporter": "python",
   "pygments_lexer": "ipython3",
   "version": "3.8.10"
  }
 },
 "nbformat": 4,
 "nbformat_minor": 5
}
